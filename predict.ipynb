{
 "cells": [
  {
   "cell_type": "code",
   "execution_count": 7,
   "metadata": {},
   "outputs": [],
   "source": [
    "import cv2\n",
    "import numpy as np\n",
    "from imutils import contours\n",
    "from keras.models import load_model\n",
    "import keras.utils as image"
   ]
  },
  {
   "cell_type": "code",
   "execution_count": 26,
   "metadata": {},
   "outputs": [],
   "source": [
    "model = load_model('model.h5')\n",
    "classes = {\n",
    "    0: '0', 1: '1', 2: '2', 3: '3', 4: '4', 5: '5', 6: '6', 7: '7', 8: '8', 9: '9',\n",
    "    10: 'A', 11: 'B', 12: 'C', 13: 'D', 14: 'E', 15: 'F', 16: 'G', 17: 'H', 18: 'K',\n",
    "    19: 'L', 20: 'M', 21: 'N', 22: 'P', 23: 'R', 24: 'S', 25: 'T', 26: 'U', 27: 'V',\n",
    "    28: 'X', 29: 'Y', 30: 'Z'\n",
    "}\n",
    "image = cv2.imread('b.png')\n",
    "image = cv2.resize(image, (500, 400))"
   ]
  },
  {
   "cell_type": "code",
   "execution_count": 27,
   "metadata": {},
   "outputs": [],
   "source": [
    "mask = np.zeros(image.shape, dtype=np.uint8)\n",
    "gray = cv2.cvtColor(image, cv2.COLOR_BGR2GRAY)\n",
    "thresh = cv2.threshold(gray, 0, 255, cv2.THRESH_BINARY_INV + cv2.THRESH_OTSU)[1]\n",
    "\n",
    "cnts = cv2.findContours(thresh, cv2.RETR_TREE, cv2.CHAIN_APPROX_SIMPLE)\n",
    "cnts = cnts[0] if len(cnts) == 2 else cnts[1]\n",
    "(cnts, _) = contours.sort_contours(cnts, method = \"left-to-right\")\n",
    "\n",
    "boxes = []\n",
    "for c in cnts:\n",
    "    area = cv2.contourArea(c)\n",
    "    if area > 3800:\n",
    "        x, y, w, h = cv2.boundingRect(c)\n",
    "        boxes.append([x, y, w, h])"
   ]
  },
  {
   "cell_type": "code",
   "execution_count": 28,
   "metadata": {},
   "outputs": [
    {
     "name": "stdout",
     "output_type": "stream",
     "text": [
      "1/1 [==============================] - 0s 83ms/step\n",
      "1/1 [==============================] - 0s 43ms/step\n",
      "1/1 [==============================] - 0s 28ms/step\n",
      "1/1 [==============================] - 0s 25ms/step\n",
      "1/1 [==============================] - 0s 21ms/step\n",
      "1/1 [==============================] - 0s 19ms/step\n",
      "1/1 [==============================] - 0s 20ms/step\n",
      "1/1 [==============================] - 0s 22ms/step\n"
     ]
    },
    {
     "data": {
      "text/plain": [
       "-1"
      ]
     },
     "execution_count": 28,
     "metadata": {},
     "output_type": "execute_result"
    }
   ],
   "source": [
    "min_y = None\n",
    "first_line = []\n",
    "second_line = []\n",
    "\n",
    "def take_second(s):\n",
    "    return s[1]\n",
    "\n",
    "for box in boxes:\n",
    "    x, y, w, h = box\n",
    "    char_area = image[y:y + h, x:x + w]\n",
    "    char_area = cv2.resize(char_area, (12, 28), interpolation=cv2.INTER_AREA)\n",
    "    char_area = np.expand_dims(char_area, axis = 0)\n",
    "    char_area = char_area / 255\n",
    "    predictions = model.predict(char_area)\n",
    "    max_value = np.max(predictions, axis = 1)\n",
    "    index = np.argmax(predictions, axis = 1)\n",
    "    char = classes[index[0]]\n",
    "    if max_value < 0.7:\n",
    "        continue\n",
    "\n",
    "    if min_y == None or min_y > y:\n",
    "        min_y = y\n",
    "    if y - min_y > (h / 2):\n",
    "        second_line.append((char, x))\n",
    "    else:\n",
    "        first_line.append((char, x))\n",
    "\n",
    "    cv2.rectangle(image, (x, y), (x + w, y + h), (0, 255, 0))\n",
    "    cv2.putText(image, char, (x + w, y), fontFace=cv2.FONT_HERSHEY_SIMPLEX, fontScale=1, color=(255, 0, 0), thickness=2)\n",
    "\n",
    "first_line = sorted(first_line, key = take_second)\n",
    "second_line = sorted(second_line, key = take_second)\n",
    "if len(second_line) == 0:\n",
    "    license_plate = \"\".join([str(ele[0]) for ele in first_line])\n",
    "else: \n",
    "    license_plate = \"\".join([str(ele[0]) for ele in first_line]) + \"-\" + \"\".join([str(ele[0]) for ele in second_line])\n",
    "\n",
    "cv2.putText(image, license_plate, (int(3 * image.shape[1] / 5), image.shape[0] - 50), fontFace = cv2.FONT_HERSHEY_SIMPLEX, fontScale = 1, color=(0, 0, 255), thickness=2)\n",
    "cv2.imshow('Image', image)\n",
    "cv2.waitKey()"
   ]
  }
 ],
 "metadata": {
  "kernelspec": {
   "display_name": "Python 3",
   "language": "python",
   "name": "python3"
  },
  "language_info": {
   "codemirror_mode": {
    "name": "ipython",
    "version": 3
   },
   "file_extension": ".py",
   "mimetype": "text/x-python",
   "name": "python",
   "nbconvert_exporter": "python",
   "pygments_lexer": "ipython3",
   "version": "3.11.1"
  },
  "orig_nbformat": 4
 },
 "nbformat": 4,
 "nbformat_minor": 2
}
